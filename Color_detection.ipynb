{
 "cells": [
  {
   "cell_type": "code",
   "execution_count": null,
   "id": "f81c48c3",
   "metadata": {
    "scrolled": true
   },
   "outputs": [],
   "source": []
  },
  {
   "cell_type": "code",
   "execution_count": 3,
   "id": "379836f3",
   "metadata": {},
   "outputs": [
    {
     "name": "stdout",
     "output_type": "stream",
     "text": [
      "Collecting opencv-python\n",
      "  Using cached opencv_python-4.7.0.72-cp37-abi3-win_amd64.whl (38.2 MB)\n",
      "Requirement already satisfied: numpy>=1.21.2 in c:\\users\\akash\\anaconda3\\lib\\site-packages (from opencv-python) (1.23.5)\n",
      "Installing collected packages: opencv-python\n",
      "Successfully installed opencv-python-4.7.0.72\n"
     ]
    }
   ],
   "source": [
    "!pip install opencv-python"
   ]
  },
  {
   "cell_type": "code",
   "execution_count": 4,
   "id": "693d1084",
   "metadata": {},
   "outputs": [],
   "source": [
    "import cv2\n",
    "import pandas as pd"
   ]
  },
  {
   "cell_type": "code",
   "execution_count": 5,
   "id": "aa735d3c",
   "metadata": {},
   "outputs": [],
   "source": [
    "img_loc='colorpic.jpg'\n",
    "img=cv2.imread(img_loc)"
   ]
  },
  {
   "cell_type": "markdown",
   "id": "983da868",
   "metadata": {},
   "source": [
    "#### To check the color of the specified location we are setting the value as 'False' initially that means i haven't clicked anywhere on the picture as of now"
   ]
  },
  {
   "cell_type": "code",
   "execution_count": 6,
   "id": "aa52daf5",
   "metadata": {},
   "outputs": [],
   "source": [
    "click=False\n",
    "r=g=b=x_pos=y_pos=0"
   ]
  },
  {
   "cell_type": "markdown",
   "id": "251db94d",
   "metadata": {},
   "source": [
    "#### According to the dataset we have set the index values"
   ]
  },
  {
   "cell_type": "code",
   "execution_count": 7,
   "id": "1f8955f2",
   "metadata": {},
   "outputs": [],
   "source": [
    "index=['color','color_name','hex','R','G','B']\n",
    "csv=pd.read_csv('colors.csv',names=index,header=None)"
   ]
  },
  {
   "cell_type": "markdown",
   "id": "1a6fb3c0",
   "metadata": {},
   "source": [
    "### We will create 2 functions: One for defining exact B G R values and one for naming the color "
   ]
  },
  {
   "cell_type": "code",
   "execution_count": 8,
   "id": "b4a29771",
   "metadata": {},
   "outputs": [],
   "source": [
    "def draw_fn(event,x,y,flags,param):\n",
    "    if event==cv2.EVENT_LBUTTONDBLCLK:\n",
    "        global b,g,r,x_pos,y_pos,click\n",
    "        click =True\n",
    "        x_pos=x\n",
    "        y_pos=y\n",
    "        # as in openCV we have balues op color as B G R\n",
    "        b,g,r=img[y,x]\n",
    "        b=int(b)\n",
    "        g=int(g)\n",
    "        r=int(r)\n",
    "        \n",
    "def color_names(R,G,B):\n",
    "    # threshold chosen to select the clor if it is lesser that this (in our case)\n",
    "    minimum=10000\n",
    "    for i in range(len(csv)):\n",
    "        #We have taken the sum of differences between the values we have obtained from the part of the image selected from our mouse\n",
    "        d=abs(R-int(csv.loc[i,\"R\"]))+abs(G-int(csv.loc[i,\"G\"]))+abs(B-int(csv.loc[i,\"B\"]))\n",
    "        if d<=minimum:\n",
    "            minimum=d\n",
    "            cname=csv.loc[i,'color_name']\n",
    "    return cname"
   ]
  },
  {
   "cell_type": "code",
   "execution_count": 9,
   "id": "d07a984d",
   "metadata": {},
   "outputs": [],
   "source": [
    "cv2.namedWindow('image')\n",
    "cv2.setMouseCallback('image',draw_fn)"
   ]
  },
  {
   "cell_type": "code",
   "execution_count": 10,
   "id": "dc2babdf",
   "metadata": {},
   "outputs": [],
   "source": [
    "while True:\n",
    "    cv2.imshow('image',img)\n",
    "    if click:\n",
    "        cv2.rectangle(img,(20,20),(750,60),(b,g,r),-1)\n",
    "        text=color_names(r,g,b)+' R='+str(r)+' G='+str(g)+' B='+str(b)\n",
    "        cv2.putText(img,text,(50,50),2,0.8,(255,255,255),2,cv2.LINE_AA)\n",
    "        if r+g+b>=600:\n",
    "            cv2.putText(img,text,(50,50),2,0.8,(0,0,0),2,cv2.LINE_AA)\n",
    "        click=False\n",
    "    # Used Esc key as the key to close the image\n",
    "    if cv2.waitKey(20)& 0xFF ==27:\n",
    "        break\n",
    "cv2.destroyAllWindows()"
   ]
  },
  {
   "cell_type": "code",
   "execution_count": null,
   "id": "70df314f",
   "metadata": {},
   "outputs": [],
   "source": []
  },
  {
   "cell_type": "code",
   "execution_count": null,
   "id": "2d223715",
   "metadata": {},
   "outputs": [],
   "source": []
  }
 ],
 "metadata": {
  "kernelspec": {
   "display_name": "Python 3 (ipykernel)",
   "language": "python",
   "name": "python3"
  },
  "language_info": {
   "codemirror_mode": {
    "name": "ipython",
    "version": 3
   },
   "file_extension": ".py",
   "mimetype": "text/x-python",
   "name": "python",
   "nbconvert_exporter": "python",
   "pygments_lexer": "ipython3",
   "version": "3.10.9"
  }
 },
 "nbformat": 4,
 "nbformat_minor": 5
}
